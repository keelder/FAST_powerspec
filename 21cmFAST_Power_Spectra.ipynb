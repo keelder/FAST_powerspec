{
 "cells": [
  {
   "cell_type": "markdown",
   "metadata": {},
   "source": [
    " # Creating a simple Power Spectrum using 21cmFAST\n",
    "    \n",
    "The purpose of this notebook is to describe how to create a simulated power spectrum using 21cmFAST"
   ]
  },
  {
   "cell_type": "code",
   "execution_count": 4,
   "metadata": {},
   "outputs": [],
   "source": [
    "#The first step is to import the necessary packages\n",
    "%matplotlib inline\n",
    "import matplotlib.pyplot as plt\n",
    "import numpy as np\n",
    "import py21cmfast as p21c\n",
    "from powerbox.tools import get_power"
   ]
  },
  {
   "cell_type": "markdown",
   "metadata": {},
   "source": [
    "To create a power spectrum, you first need to create a coeval cube. The value for redshift is required for the `run_coeval` function to work. Other parameters can be included but are not necessary to specify. \n",
    "\n",
    "Here, a redshift of 8.0 is selected. The other parameters input here are:\n",
    "\n",
    "* User Parameters: `\"HII_DIM\"` is the number of cells for the low-res box; `\"BOX_LEN\"` is the length of the box, in Mpc.\n",
    "\n",
    "* Cosmological Parameters: `\"SIGMA_8\"` is the RMS mass variance (power spectrum normalisation).\n",
    "\n",
    "* Astrophysical Parameters: `\"HII_EFF_FACTOR\"` is the ionizing efficiency of high-z galaxies (zeta, from Eq. 2 of Greig+2015). Higher values tend to speed up reionization.\n",
    "\n",
    "Lastly, a random seed is passed. This sets all the random phases for the simulation, and ensures that we can exactly reproduce the same results on every run."
   ]
  },
  {
   "cell_type": "code",
   "execution_count": 2,
   "metadata": {},
   "outputs": [],
   "source": [
    "coeval8 = p21c.run_coeval(\n",
    "    redshift = 8.0,\n",
    "    user_params = {\"HII_DIM\": 100, \"BOX_LEN\": 100},\n",
    "    cosmo_params = p21c.CosmoParams(SIGMA_8=0.8),\n",
    "    astro_params = p21c.AstroParams({\"HII_EFF_FACTOR\":20.0}),\n",
    "    random_seed = 12345\n",
    ")"
   ]
  },
  {
   "cell_type": "markdown",
   "metadata": {},
   "source": [
    "Finally, we plot the power spectrum itself. To do this, we assign the brightness temperture calculated above and the box length to the variables `power` and `k`. Then we do a simple `loglog` plot. The equation for the power spectrum is\n",
    "$ power \\times k ^ 3 / (2 \\times \\pi ^ 2) $"
   ]
  },
  {
   "cell_type": "code",
   "execution_count": 3,
   "metadata": {},
   "outputs": [
    {
     "data": {
      "text/plain": [
       "[<matplotlib.lines.Line2D at 0x7fa0a26f7580>]"
      ]
     },
     "execution_count": 3,
     "metadata": {},
     "output_type": "execute_result"
    },
    {
     "data": {
      "image/png": "[encoded data removed]",
      "text/plain": [
       "<Figure size 432x288 with 1 Axes>"
      ]
     },
     "metadata": {
      "needs_background": "light"
     },
     "output_type": "display_data"
    }
   ],
   "source": [
    "power, k = get_power(coeval8.brightness_temp, coeval8.user_params.BOX_LEN)\n",
    "plt.loglog(k, power * k ** 3 / (2 * np.pi ** 2))"
   ]
  },
  {
   "cell_type": "code",
   "execution_count": null,
   "metadata": {},
   "outputs": [],
   "source": []
  }
 ],
 "metadata": {
  "kernelspec": {
   "display_name": "python3.8 21cmFAST",
   "language": "python",
   "name": "21cm"
  },
  "language_info": {
   "codemirror_mode": {
    "name": "ipython",
    "version": 3
   },
   "file_extension": ".py",
   "mimetype": "text/x-python",
   "name": "python",
   "nbconvert_exporter": "python",
   "pygments_lexer": "ipython3",
   "version": "3.8.5"
  }
 },
 "nbformat": 4,
 "nbformat_minor": 2
}
